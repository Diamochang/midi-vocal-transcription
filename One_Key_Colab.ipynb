{
  "nbformat": 4,
  "nbformat_minor": 0,
  "metadata": {
    "colab": {
      "provenance": [],
      "gpuType": "T4",
      "authorship_tag": "ABX9TyP4qw0RWMrWTEJW40uMo7Fd",
      "include_colab_link": true
    },
    "kernelspec": {
      "name": "python3",
      "display_name": "Python 3"
    },
    "language_info": {
      "name": "python"
    },
    "gpuClass": "standard"
  },
  "cells": [
    {
      "cell_type": "markdown",
      "metadata": {
        "id": "view-in-github",
        "colab_type": "text"
      },
      "source": [
        "<a href=\"https://colab.research.google.com/github/Pluseen/icassp2022-vocal-transcription/blob/main/One_Key_Colab.ipynb\" target=\"_parent\"><img src=\"https://colab.research.google.com/assets/colab-badge.svg\" alt=\"Open In Colab\"/></a>"
      ]
    },
    {
      "cell_type": "markdown",
      "source": [
        "原始项目来源：https://github.com/keums/icassp2022-vocal-transcription"
      ],
      "metadata": {
        "id": "2HDQMxN35zNM"
      }
    },
    {
      "cell_type": "code",
      "source": [
        "#@title Colab Python 3.9\n",
        "!wget -O mini.sh https://repo.anaconda.com/miniconda/Miniconda3-py39_4.9.2-Linux-x86_64.sh\n",
        "!chmod +x mini.sh\n",
        "!bash ./mini.sh -b -f -p /usr/local\n",
        "!conda install -q -y jupyter\n",
        "!conda install -q -y google-colab -c conda-forge\n",
        "!python -m ipykernel install --name \"py39\" --user"
      ],
      "metadata": {
        "id": "gtaN-3_of5aM"
      },
      "execution_count": null,
      "outputs": []
    },
    {
      "cell_type": "code",
      "source": [
        "!python --version"
      ],
      "metadata": {
        "colab": {
          "base_uri": "https://localhost:8080/"
        },
        "id": "VQ1p091UEa6_",
        "outputId": "7872269e-24a5-4bc7-bdf0-644459f7094f"
      },
      "execution_count": null,
      "outputs": [
        {
          "output_type": "stream",
          "name": "stdout",
          "text": [
            "Python 3.9.1\n"
          ]
        }
      ]
    },
    {
      "cell_type": "code",
      "source": [
        "#@title 配置环境安装依赖\n",
        "!git clone https://github.com/seq2193/icassp2022-vocal-transcription\n",
        "!pip install -r /content/icassp2022-vocal-transcription/requirements.txt\n",
        "!pip install  pydub mido pretty_midi xlutils matplotlib\n",
        "#!pip install numpy tensorflow==2.11\n",
        "!pip install numpy==1.20 tensorflow==2.7.0\n",
        "!rm -rf /content/icassp2022-vocal-transcription/output/output.txt"
      ],
      "metadata": {
        "id": "itFYpD3VHI_C"
      },
      "execution_count": null,
      "outputs": []
    },
    {
      "cell_type": "code",
      "source": [
        "#@title 上传音频文件.mp3 .wav 一键转换\n",
        "%cd /content/icassp2022-vocal-transcription/audio\n",
        "import os\n",
        "from google.colab import files\n",
        "uploaded = files.upload()\n",
        "file_name = list(uploaded.keys())[0]\n",
        "print(file_name)\n",
        "\n",
        "basename = os.path.splitext(os.path.basename(file_name))[0]\n",
        "print('basename: ' + basename)\n",
        "\n",
        "!python /content/icassp2022-vocal-transcription/src/singing_transcription.py -i \"../audio/{file_name}\" -o ../output -ot fps\n",
        "#@markdown 输入BPM曲速，可至 https://tunebat.com/Analyzer 查询。\n",
        "bpm = \"70\" #@param {type:\"string\"}\n",
        "!python /content/icassp2022-vocal-transcription/src/txt2csv.py -bpm {bpm} \"../output/{basename}.txt\"\n",
        "#更改txr2midi文件名称\n",
        "%cd /content/icassp2022-vocal-transcription/output/results/midi\n",
        "!mv {basename}.mid  {basename}_text2midi.mid\n",
        "%cd /content/icassp2022-vocal-transcription\n",
        "#压缩并下载\n",
        "!zip -r midi.zip output \n",
        "from google.colab import files\n",
        "files.download(\"midi.zip\")"
      ],
      "metadata": {
        "id": "FausT8huH4qa"
      },
      "execution_count": null,
      "outputs": []
    }
  ]
}