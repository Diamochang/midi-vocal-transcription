{
  "nbformat": 4,
  "nbformat_minor": 0,
  "metadata": {
    "colab": {
      "provenance": [],
      "gpuType": "T4"
    },
    "kernelspec": {
      "name": "python3",
      "display_name": "Python 3"
    },
    "language_info": {
      "name": "python"
    },
    "accelerator": "GPU"
  },
  "cells": [
    {
      "cell_type": "markdown",
      "source": [
        "原始项目来源：https://github.com/keums/icassp2022-vocal-transcription\n",
        "\n",
        "更新日期：2024/07/10"
      ],
      "metadata": {
        "id": "2HDQMxN35zNM"
      }
    },
    {
      "cell_type": "code",
      "source": [
        "#@title Colab Python 3.9（停用）\n",
        "#!wget -O mini.sh https://repo.anaconda.com/miniconda/Miniconda3-py39_4.9.2-Linux-x86_64.sh\n",
        "#!chmod +x mini.sh\n",
        "#!bash ./mini.sh -b -f -p /usr/local\n",
        "#!conda install -q -y jupyter\n",
        "#!conda install -q -y google-colab -c conda-forge\n",
        "#!python -m ipykernel install --name \"py39\" --user"
      ],
      "metadata": {
        "id": "gtaN-3_of5aM"
      },
      "execution_count": null,
      "outputs": []
    },
    {
      "cell_type": "code",
      "source": [
        "!python --version"
      ],
      "metadata": {
        "colab": {
          "base_uri": "https://localhost:8080/"
        },
        "id": "VQ1p091UEa6_",
        "outputId": "fe1179ab-8786-43be-f05e-abc1dcc5eced"
      },
      "execution_count": null,
      "outputs": [
        {
          "output_type": "stream",
          "name": "stdout",
          "text": [
            "Python 3.10.12\n"
          ]
        }
      ]
    },
    {
      "cell_type": "code",
      "source": [
        "#@title 配置环境&安装依赖\n",
        "!git clone https://github.com/Diamochang/midi-vocal-transcription\n",
        "#!pip install pydub pretty_midi xlwt xlutils\n",
        "!pip install --upgrade pip\n",
        "!pip install -r /content/midi-vocal-transcription/requirements.txt\n",
        "#!pip install  pydub mido pretty_midi xlutils matplotlib\n",
        "#!pip install numpy tensorflow==2.11\n",
        "#!pip install numpy==1.20 tensorflow==2.7.0\n",
        "!rm -rf /content/midi-vocal-transcription/output/output.txt"
      ],
      "metadata": {
        "id": "itFYpD3VHI_C"
      },
      "execution_count": null,
      "outputs": []
    },
    {
      "cell_type": "code",
      "source": [
        "#@title 转换人声\n",
        "%cd /content/midi-vocal-transcription/audio\n",
        "import os\n",
        "from google.colab import files\n",
        "uploaded = files.upload()\n",
        "file_name = list(uploaded.keys())[0]\n",
        "print(file_name)\n",
        "\n",
        "basename = os.path.splitext(os.path.basename(file_name))[0]\n",
        "print('basename: ' + basename)\n",
        "\n",
        "!python /content/midi-vocal-transcription/src/singing_transcription.py -i \"../audio/{file_name}\" -o ../output -ot fps\n",
        "#@markdown 输入BPM曲速，可至 https://tunebat.com/Analyzer 查询。\n",
        "\n",
        "#@markdown 输入BPM曲速，可至 https://songbpm.com/ 查询。\n",
        "bpm = \"94\" #@param {type:\"string\"}\n",
        "!python /content/midi-vocal-transcription/src/txt2csv.py -bpm {bpm} \"../output/{basename}.txt\"\n",
        "#更改 txr2midi 文件名称\n",
        "%cd /content/midi-vocal-transcription/output/results/midi\n",
        "!mv {basename}.mid  {basename}_text2midi.mid\n",
        "%cd /content/midi-vocal-transcription\n",
        "#压缩并下载\n",
        "!zip -r midi.zip output\n",
        "from google.colab import files\n",
        "files.download(\"midi.zip\")"
      ],
      "metadata": {
        "id": "FausT8huH4qa"
      },
      "execution_count": null,
      "outputs": []
    }
  ]
}
