{
  "nbformat": 4,
  "nbformat_minor": 0,
  "metadata": {
    "colab": {
      "provenance": []
    },
    "kernelspec": {
      "name": "python3",
      "display_name": "Python 3"
    },
    "language_info": {
      "name": "python"
    }
  },
  "cells": [
    {
      "cell_type": "markdown",
      "source": [
        "原始项目来源：https://github.com/keums/icassp2022-vocal-transcription"
      ],
      "metadata": {
        "id": "2HDQMxN35zNM"
      }
    },
    {
      "cell_type": "code",
      "source": [
        "#@title 配置环境安装依赖\n",
        "!git clone https://github.com/seq2193/icassp2022-vocal-transcription\n",
        "!pip install -r /content/icassp2022-vocal-transcription/requirements.txt\n",
        "!pip install xlutils\n",
        "!rm -rf /content/icassp2022-vocal-transcription/output/output.txt"
      ],
      "metadata": {
        "id": "itFYpD3VHI_C"
      },
      "execution_count": null,
      "outputs": []
    },
    {
      "cell_type": "code",
      "source": [
        "#@title 上传音频文件.mp3 .wav 一键转换\n",
        "%cd /content/icassp2022-vocal-transcription/audio\n",
        "import os\n",
        "from google.colab import files\n",
        "uploaded = files.upload()\n",
        "file_name = list(uploaded.keys())[0]\n",
        "print(file_name)\n",
        "\n",
        "basename = os.path.splitext(os.path.basename(file_name))[0]\n",
        "print('basename: ' + basename)\n",
        "\n",
        "!python /content/icassp2022-vocal-transcription/src/singing_transcription.py -i \"../audio/{file_name}\" -o ../output -ot fps\n",
        "#@markdown 输入BPM曲速，可至 https://tunebat.com/Analyzer 查询。\n",
        "bpm = \"70\" #@param {type:\"string\"}\n",
        "!python /content/icassp2022-vocal-transcription/src/txt2csv.py -bpm {bpm} \"../output/{basename}.txt\"\n",
        "#更改txr2midi文件名称\n",
        "%cd /content/icassp2022-vocal-transcription/output/results/midi\n",
        "!mv {basename}.mid  {basename}_text2midi.mid\n",
        "%cd /content/icassp2022-vocal-transcription\n",
        "#压缩并下载\n",
        "!zip -r midi.zip output \n",
        "from google.colab import files\n",
        "files.download(\"midi.zip\")"
      ],
      "metadata": {
        "id": "FausT8huH4qa"
      },
      "execution_count": null,
      "outputs": []
    }
  ]
}
