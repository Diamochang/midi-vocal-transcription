{
  "nbformat": 4,
  "nbformat_minor": 0,
  "metadata": {
    "colab": {
      "provenance": [],
      "gpuType": "T4"
    },
    "kernelspec": {
      "name": "python3",
      "display_name": "Python 3"
    },
    "language_info": {
      "name": "python"
    },
    "accelerator": "GPU"
  },
  "cells": [
    {
      "cell_type": "markdown",
      "source": [
        "# 使用 ICASSP2022 论文随附源代码 + Google Colab 在线扒人声谱\n",
        "## 综述\n",
        "这个笔记本通过 Google Colab 平台使用论文 *Pseudo-Label Transfer from Frame-level to Note-level in a Teacher-student Framework for Singing Transcription from Polyphonic Music*, ICASSP2022, Singapore <[链接](https://ieeexplore.ieee.org/document/9747147)> 随附的源代码，以论文中提到的新型人工智能技术将人声音频转换成 MIDI 谱，方便进一步调整后导入到歌声合成软件中做调音。由于所有操作均在 Colab 提供的免费 T4 GPU 远程资源上完成，只要你的个人计算机可以使用支持现代前端技术的浏览器，并且有条件绕过防火长城注册/登录谷歌账号和正常使用谷歌服务，就可以享受这一新技术带来的便利。\n",
        "\n",
        "## 格式\n",
        "- 输入格式（上传人声音频的文件格式）：`.mp3` 或 `.wav`\n",
        "- 输出格式：`.mid`\n",
        "\n",
        "## 笔记本基本信息\n",
        "- 灵感来源：https://www.vsqx.top/article/an40\n",
        "- 原始项目来源：https://github.com/keums/icassp2022-vocal-transcription\n",
        "- 笔记本原始来源：https://github.com/upright2003/icassp2022-vocal-transcription/blob/main/One_Key_Colab.ipynb\n",
        "- 更新日期：2024/07/11\n",
        "\n",
        "## 代码实现\n"
      ],
      "metadata": {
        "id": "2HDQMxN35zNM"
      }
    },
    {
      "cell_type": "code",
      "source": [
        "#@title 确认 Python 版本\n",
        "!python --version"
      ],
      "metadata": {
        "id": "VQ1p091UEa6_",
        "collapsed": true
      },
      "execution_count": null,
      "outputs": []
    },
    {
      "cell_type": "code",
      "source": [
        "#@title 配置环境和安装依赖\n",
        "!git clone https://github.com/Diamochang/midi-vocal-transcription\n",
        "!pip install --upgrade pip\n",
        "!pip install poetry\n",
        "%cd /content/midi-vocal-transcription/\n",
        "!poetry install\n",
        "!rm -rf /content/midi-vocal-transcription/output/output.txt"
      ],
      "metadata": {
        "id": "itFYpD3VHI_C"
      },
      "execution_count": null,
      "outputs": []
    },
    {
      "cell_type": "code",
      "source": [
        "#@title 简陋 Web UI 和主程序\n",
        "%cd /content/midi-vocal-transcription/audio\n",
        "import os\n",
        "from google.colab import files\n",
        "uploaded = files.upload()\n",
        "file_name = list(uploaded.keys())[0]\n",
        "print(file_name)\n",
        "\n",
        "basename = os.path.splitext(os.path.basename(file_name))[0]\n",
        "print('File basename: ' + basename)\n",
        "\n",
        "!poetry run python /content/midi-vocal-transcription/src/singing_transcription.py -i \"../audio/{file_name}\" -o ../output -ot fps\n",
        "#@markdown 在下面的框中输入 BPM 曲速，可至 [Tunebat](https://tunebat.com/Analyzer) 或 [Songbpm](https://songbpm.com/) 网站、MixMeister BPM Analyzer 或 WaveTone 等软件查询。\n",
        "bpm = \"94\" #@param {type:\"string\"}\n",
        "#@markdown 点击“代码执行程序”下的“全部运行\"，待运行至本单元格且下面的输出中出现上传按钮时，点击该按钮上传人声音频。如果歌曲没有现成的人声音频，可用[在线工具](https://vocalremover.org/)进行生成，依需要编辑后即可上传。\n",
        "\n",
        "#@markdown 选择文件并上传后，等待即可。完成后会自动下载打包好的 MIDI 谱。\n",
        "!poetry run python /content/midi-vocal-transcription/src/txt2csv.py -bpm {bpm} \"../output/{basename}.txt\"\n",
        "#更改 txr2midi 文件名称\n",
        "%cd /content/midi-vocal-transcription/output/results/midi\n",
        "!mv {basename}.mid  {basename}_text2midi.mid\n",
        "%cd /content/midi-vocal-transcription\n",
        "#压缩并下载\n",
        "!zip -r midi.zip output\n",
        "from google.colab import files\n",
        "files.download(\"midi.zip\")"
      ],
      "metadata": {
        "id": "FausT8huH4qa"
      },
      "execution_count": null,
      "outputs": []
    }
  ]
}